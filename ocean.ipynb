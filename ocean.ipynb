{
 "cells": [
  {
   "cell_type": "markdown",
   "metadata": {},
   "source": [
    "# Introduction"
   ]
  },
  {
   "cell_type": "markdown",
   "metadata": {},
   "source": [
    "* Theme:Building smart ocean,enabling the modernization of maritime security governance capability.\n",
    "* Background:The application of AIS、Beidou terminal and some other equipments has brought great convenience to maritime traffic, but at the time, there are a lot of losses because of  misuse of equipment.\n",
    "* Target:Based on the data from Beidou, we need to classify the type among gillnets、trawlnet and pursenet."
   ]
  },
  {
   "cell_type": "markdown",
   "metadata": {},
   "source": [
    "# Part1: Read data"
   ]
  },
  {
   "cell_type": "code",
   "execution_count": null,
   "metadata": {},
   "outputs": [],
   "source": [
    "import pandas as pd\n",
    "from gensim.models import Word2Vec\n",
    "import time\n",
    "import numpy as np\n",
    "import os\n",
    "import warnings\n",
    "import datetime\n",
    "import lightgbm as lgb\n",
    "from sklearn.model_selection import StratifiedKFold\n",
    "from sklearn import metrics\n",
    "import warnings\n",
    "pd.set_option('display.max_columns', 100)\n",
    "warnings.filterwarnings('ignore')"
   ]
  },
  {
   "cell_type": "code",
   "execution_count": null,
   "metadata": {},
   "outputs": [],
   "source": [
    "train=pd.read('/home/aistudio/data/data19361/hy_round1_train_20200102')\n",
    "test=pd.read('/home/aistudio/data/data19361/hy_round1_testA_20200102')\n",
    "data=train.append(test)\n",
    "data.reset_index(drop=True)\n",
    "data=data.rename(columns={'渔船ID':'ship','lat':'x','lon':'y','速度':'v','方向':'d'})"
   ]
  },
  {
   "cell_type": "code",
   "execution_count": null,
   "metadata": {},
   "outputs": [],
   "source": [
    "def reduce_mem_usage(df, verbose=True):\n",
    "    numerics = ['int16', 'int32', 'int64', 'float16', 'float32', 'float64']\n",
    "    start_mem = df.memory_usage().sum() / 1024**2\n",
    "    for col in df.columns:\n",
    "        col_type = df[col].dtypes\n",
    "        if col_type in numerics:\n",
    "            c_min = df[col].min()\n",
    "            c_max = df[col].max()\n",
    "            if str(col_type)[:3] == 'int':\n",
    "                if c_min > np.iinfo(np.int8).min and c_max < np.iinfo(np.int8).max:\n",
    "                    df[col] = df[col].astype(np.int8)\n",
    "                elif c_min > np.iinfo(np.int16).min and c_max < np.iinfo(np.int16).max:\n",
    "                    df[col] = df[col].astype(np.int16)\n",
    "                elif c_min > np.iinfo(np.int32).min and c_max < np.iinfo(np.int32).max:\n",
    "                    df[col] = df[col].astype(np.int32)\n",
    "                elif c_min > np.iinfo(np.int64).min and c_max < np.iinfo(np.int64).max:\n",
    "                    df[col] = df[col].astype(np.int64)\n",
    "            else:\n",
    "                if c_min > np.finfo(np.float16).min and c_max < np.finfo(np.float16).max:\n",
    "                    df[col] = df[col].astype(np.float16)\n",
    "                elif c_min > np.finfo(np.float32).min and c_max < np.finfo(np.float32).max:\n",
    "                    df[col] = df[col].astype(np.float32)\n",
    "                else:\n",
    "                    df[col] = df[col].astype(np.float64)\n",
    "    end_mem = df.memory_usage().sum() / 1024**2\n",
    "    if verbose: print('Mem. usage decreased to {:5.2f} Mb ({:.1f}% reduction)'.format(end_mem, 100 * (start_mem - end_mem) / start_mem))\n",
    "    return df\n",
    "data=reduce_mem_usage(data, verbose=True)"
   ]
  },
  {
   "cell_type": "markdown",
   "metadata": {},
   "source": [
    "# Part2: Overview the data"
   ]
  },
  {
   "cell_type": "code",
   "execution_count": null,
   "metadata": {},
   "outputs": [],
   "source": [
    "data1=data[data['type']=='刺网']\n",
    "data2=data[data['type']=='拖网']\n",
    "data3=data[data['type']=='围网']\n",
    "data4=data[(data['type']==None]"
   ]
  },
  {
   "cell_type": "code",
   "execution_count": null,
   "metadata": {},
   "outputs": [],
   "source": [
    "import matplotlib.pyplot as plt\n",
    "%matplotlib inline\n",
    "plt.scatter(data4['x'], data4['y'], marker='o')\n",
    "plt.scatter(data3['x'], data3['y'], marker='o')\n",
    "plt.scatter(data2['x'], data2['y'], marker='o')\n",
    "plt.scatter(data1['x'], data1['y'], marker='o')\n",
    "plt.show()"
   ]
  },
  {
   "attachments": {
    "pic0.png": {
     "image/png": "[encoded data removed]"
    }
   },
   "cell_type": "markdown",
   "metadata": {},
   "source": [
    "![pic0.png](attachment:pic0.png)"
   ]
  },
  {
   "cell_type": "markdown",
   "metadata": {},
   "source": [
    "**we see:**\n",
    "* the line is lumped, so maybe we can assumed that they have similar port\n",
    "* different type has different line\n",
    "* distribution of samples is uneven"
   ]
  },
  {
   "cell_type": "markdown",
   "metadata": {},
   "source": [
    "# Part3: Base statistical features"
   ]
  },
  {
   "cell_type": "code",
   "execution_count": null,
   "metadata": {},
   "outputs": [],
   "source": [
    "def group_feature(df, key, target, aggs):   \n",
    "    agg_dict = {}\n",
    "    for ag in aggs:\n",
    "        agg_dict[f'{target}_{ag}'] = ag\n",
    "    t = df.groupby(key)[target].agg(agg_dict).reset_index()\n",
    "    return t\n",
    "\n",
    "data_label=data.drop_duplicates('ship')[['type','ship']].reset_index(drop=True)\n",
    "\n",
    "t = group_feature(data, 'ship','x',['max','min','mean','std','skew'])\n",
    "data_label= pd.merge(data_label, t, on='ship', how='left')\n",
    "t = group_feature(data, 'ship','y',['max','min','mean','std','skew'])\n",
    "data_label= pd.merge(data_label, t, on='ship', how='left')\n",
    "t = group_feature(data, 'ship','v',['max','min','mean','std','skew'])\n",
    "data_label= pd.merge(data_label, t, on='ship', how='left')\n",
    "t = group_feature(data, 'ship','d',['max','mean','std','skew'])\n",
    "data_label= pd.merge(data_label, t, on='ship', how='left')\n",
    "t = group_feature(data, 'ship','x',['count'])\n",
    "data_label = pd.merge(data_label, t, on='ship', how='left')\n",
    "t = group_feature(data, 'ship','y',['count'])\n",
    "data_label = pd.merge(data_label, t, on='ship', how='left')\n",
    "\n",
    "data_label['v_max_v_min']=data_label['v_max'] -data_label['v_min']\n",
    "data_label['x_max_x_min'] = data_label['x_max'] -data_label['x_min']\n",
    "data_label['y_max_y_min'] = data_label['y_max'] - data_label['y_min']\n",
    "data_label['y_max_x_min'] = data_label['y_max'] - data_label['x_min']\n",
    "data_label['x_max_y_min'] = data_label['x_max'] - data_label['y_min']\n",
    "data_label['slope'] =data_label['y_max_y_min'] / np.where(data_label['x_max_x_min']==0, 0.001, data_label['x_max_x_min'])\n",
    "data_label['area'] = data_label['x_max_x_min'] *data_label['y_max_y_min']\n",
    "\n",
    "\n",
    "data_label['x_max_x_min|mean']=data_label['x_max_x_min']/data_label['x_mean']\n",
    "data_label['y_max_y_min|mean']=data_label['y_max_y_min']/data_label['y_mean']\n",
    "data_label['v_max_v_min|mean']=data_label['v_max_v_min']/data_label['v_mean']\n",
    "\n",
    "data_label['y_mean|x_mean']=data_label['y_mean']/data_label['x_mean']\n",
    "data_label['x_max_x_min|y_max_y_min']=data_label['x_max_x_min']/data_label['y_max_y_min']\n",
    "data_label['x_max_x_min|v_mean']=data_label['x_max_x_min']/data_label['v_mean']\n",
    "data_label['y_max_y_min|v_mean']=data_label['y_max_y_min']/data_label['v_mean']\n",
    "\n",
    "#quantile\n",
    "for feat in ['x','y','v']:\n",
    "    for num in [0.1,0.2,0.8,0.9]: \n",
    "        t = data.groupby('ship')[feat].agg({f'{feat}_quanti_{num}':lambda x:x.quantile(num)}).reset_index()\n",
    "        data_label = pd.merge(data_label, t, on='ship', how='left')\n",
    "for num in [0.1,0.2,0.8,0.9]:\n",
    "        data_label[f'{feat}_{num}|mean']=data_label[f'{feat}_quanti_{num}']/data_label[f'{feat}_mean']\n"
   ]
  },
  {
   "cell_type": "code",
   "execution_count": null,
   "metadata": {},
   "outputs": [],
   "source": [
    "#get diff\n",
    "data['time']=pd.to_datetime(datai['time'], format='%m%d %H:%M:%S')\n",
    "data=data.sort_values(by='time').reset_index(drop=True)\n",
    "data['deta_v']= data['v'].diff(1)\n",
    "data['deta_x']=data['x'].diff(1)\n",
    "data['deta_y']=data['y'].diff(1)\n",
    "data['deta_d']=data['d'].diff(1)\n",
    "data['deta_t']=(data['time'].diff(1)).dt.total_seconds()\n",
    "\n",
    "t = group_feature(data, 'ship','deta_x',['max','min','mean','std','skew'])\n",
    "data_label= pd.merge(data_label, t, on='ship', how='left')\n",
    "t = group_feature(data, 'ship','deta_y',['max','min','mean','std','skew'])\n",
    "data_label= pd.merge(data_label, t, on='ship', how='left')\n",
    "t = group_feature(data, 'ship','deta_v',['max','min','mean','std','skew'])\n",
    "data_label= pd.merge(data_label, t, on='ship', how='left')\n",
    "t = group_feature(data, 'ship','deta_d',['max','mean','std','skew'])\n",
    "data_label= pd.merge(data_label, t, on='ship', how='left')"
   ]
  },
  {
   "cell_type": "code",
   "execution_count": null,
   "metadata": {},
   "outputs": [],
   "source": [
    "#consider of time\n",
    "data['date'] = data['time'].dt.date\n",
    "data['hour'] =data['time'].dt.hour\n",
    "data['weekday'] =data['time'].dt.weekday\n",
    "\n",
    "mode_hour = data.groupby('ship')['hour'].agg(lambda x:x.value_counts().index[0]).to_dict()\n",
    "data_label['mode_hour'] =data_label['ship'].map(mode_hour)\n",
    "t = group_feature(data, 'ship','hour',['max','min'])\n",
    "data_label = pd.merge(data_label, t, on='ship', how='left')\n",
    "hour_nunique = data.groupby('ship')['hour'].nunique().to_dict()\n",
    "date_nunique = data.groupby('ship')['date'].nunique().to_dict()\n",
    "data_label['hour_nunique'] = data_label['ship'].map(hour_nunique)\n",
    "data_label['date_nunique'] = data_label['ship'].map(date_nunique)"
   ]
  },
  {
   "cell_type": "markdown",
   "metadata": {},
   "source": [
    "# Part4: Segmental features"
   ]
  },
  {
   "cell_type": "code",
   "execution_count": null,
   "metadata": {},
   "outputs": [],
   "source": [
    "for feat in ['x','y','v','d']:\n",
    "    data[f'deta_{feat}_t']=data[f'deta_{feat}'].apply(lambda x:abs(x))*100/data['deta_t']\n",
    "data['deta_xy_t']=data['deta_x'].apply(lambda x:abs(x))+data['deta_y'].apply(lambda x:abs(x))\n",
    "\n",
    "#consider of d\n",
    "data['deta_d']=data['deta_d'].abs()\n",
    "data['deta_x_t']=data['deta_x_t'].abs()\n",
    "data['deta_y_t']=data['deta_y_t'].abs()\n",
    "data['deta_v_t']=data['deta_v_t'].abs()\n",
    "d0=data[data['deta_d']==0]\n",
    "d1=data[(data['deta_d']>0) & (datai['deta_d']<10)]\n",
    "d2=data[data['deta_d']>10]\n",
    "for i,group in enumerate([d0,d1,d2]):\n",
    "    for feat in ['deta_x_t','deta_y_t','deta_v_t','v']:\n",
    "        t=group.groupby('ship')[feat].agg({f'{feat}_detad{i}_mean':'mean'}).reset_index()\n",
    "        data_label= pd.merge(data_label, t, on='ship', how='left')\n",
    "\n",
    "#consider of v        \n",
    "v0=data[data['v']<datai['v'].quantile(0.3)] \n",
    "v1=data[data['v']>datai['v'].quantile(0.7)] \n",
    "for i,group in enumerate([v0,v1]):\n",
    "    t = group.groupby('ship')['v'].agg({f'v{i}_mean':'mean'}).reset_index()                         \n",
    "    data_label= pd.merge(data_label, t, on='ship', how='left')\n",
    "    t = group.groupby('ship')['x'].agg({f'x{i}_max_mean':lambda x:x.max()-x.min()}).reset_index()                         \n",
    "    data_label= pd.merge(data_label, t, on='ship', how='left')\n",
    "    t = group.groupby('ship')['y'].agg({f'y{i}_max_mean':lambda x:x.max()-x.min()}).reset_index()                         \n",
    "    data_label= pd.merge(data_label, t, on='ship', how='left')   \n",
    "    t = group.grouppby('ship')['deta_d_t'].agg({f'deta_d{i}_mean':lambda x:x.abs().mean()}).reset_index()                         \n",
    "    data_label= pd.merge(data_label, t, on='ship', how='left') "
   ]
  },
  {
   "cell_type": "markdown",
   "metadata": {},
   "source": [
    "# Part5: Port and Mode"
   ]
  },
  {
   "cell_type": "code",
   "execution_count": null,
   "metadata": {},
   "outputs": [],
   "source": [
    "for f in ['x','y']:  \n",
    "    t=data.groupby('ship')[f].agg({'stay_pos_{}'.format(f):lambda x : x.value_counts().index[0]}).reset_index()\n",
    "    data_label= pd.merge(data_label, t, on='ship', how='left')\n",
    "    data_label['stay_pos_dis_{}'.format(f)] = data_label['{}_max'.format(f)] - data_label['stay_pos_{}'.format(f)]\n",
    "    if f == 'y':\n",
    "        data_label['stay_pos_dis_line'] = (data_label['stay_pos_dis_x']**2 + data_label['stay_pos_dis_y']**2)**0.5\n",
    "        print('stay_pos_dis_line')    \n",
    "    #assuming that boats have the similar port\n",
    "    if f == 'x':\n",
    "        data_label['stay_base_{}'.format(f)] = data_label['stay_pos_{}'.format(f)] -data['x'].mode()[0]\n",
    "    if f == 'y':\n",
    "        data_label['stay_base_{}'.format(f)] = data_label['stay_pos_{}'.format(f)] -data['y'].mode()[0]\n",
    "        \n",
    "    data_label['stay_base_area'] = data_label['stay_base_x'].abs()*data_label['stay_base_y'].abs()\n",
    "    data_label['stay_base_distance'] = (data_label['stay_base_x']**2 + data_label['stay_base_y']**2)**0.5\n",
    "    print('stay_base_distance')        \n",
    "   \n",
    "    print('stay_ratiao_y')\n",
    "    if f == 'y':\n",
    "        t=data.groupby(['ship'])['y'].apply(lambda x : x.value_counts().iloc[0])/ data.groupby(['ship'])['y'].count()\n",
    "        t.name= 'stay_ratiao_y'\n",
    "        data_label= pd.merge(data_label, t, on='ship', how='left')"
   ]
  },
  {
   "cell_type": "markdown",
   "metadata": {},
   "source": [
    "# Part6:Embedding"
   ]
  },
  {
   "cell_type": "markdown",
   "metadata": {},
   "source": [
    "**Combine longitude and latitude**"
   ]
  },
  {
   "cell_type": "code",
   "execution_count": null,
   "metadata": {},
   "outputs": [],
   "source": [
    "!pip install gensim\n",
    "from gensim.models import Word2Vec\n",
    "from gensim.models.word2vec import LineSentence \n",
    "import multiprocessing \n",
    "from tqdm import tqdm\n",
    "import numpy as np\n",
    "\n",
    "data['x']=data['x'].astype(int)\n",
    "data['y']=data['y'].astype(int)\n",
    "data['v']=data['v'].astype(int)\n",
    "data['d']=data['d'].astype(int)\n",
    "\n",
    "data['x_y']=data['x'].astype(str)+'_'+data['y'].astype(str)"
   ]
  },
  {
   "cell_type": "code",
   "execution_count": null,
   "metadata": {},
   "outputs": [],
   "source": [
    "def emb(data, f2):\n",
    "    emb_size =5\n",
    "    tmp = data.groupby('ship', as_index=False)[f2].agg({'{}_list'.format(f2): list})\n",
    "    sentences = tmp['{}_list'.format(f2)].values.tolist()\n",
    "    del tmp['{}_list'.format( f2)]\n",
    "    for i in range(len(sentences)):\n",
    "        sentences[i] = [str(x) for x in sentences[i]]\n",
    "    model = Word2Vec(sentences, size=emb_size, window=5, min_count=3, sg=0, hs=1, seed=2019)\n",
    "    emb_matrix = []\n",
    "    for seq in sentences:\n",
    "        vec = []\n",
    "        for w in seq:\n",
    "            if w in model:\n",
    "                vec.append(model[w])\n",
    "        if len(vec) > 0:\n",
    "            emb_matrix.append(np.mean(vec, axis=0))\n",
    "        else:\n",
    "            emb_matrix.append([0] * emb_size)\n",
    "    emb_matrix = np.array(emb_matrix)\n",
    "    for i in range(emb_size):\n",
    "        tmp['{}_emb_{}'.format(f2, i)] = emb_matrix[:, i]\n",
    "    del model, emb_matrix, sentences\n",
    "    return tmp\n",
    "for feat in ['x','y','v','d','x_y']:\n",
    "    t=emb(data,feat)\n",
    "    data_label=pd.merge(data_label,t, on='ship', how='left')"
   ]
  },
  {
   "cell_type": "markdown",
   "metadata": {},
   "source": [
    "# Part7:Train the modle"
   ]
  },
  {
   "cell_type": "code",
   "execution_count": null,
   "metadata": {},
   "outputs": [],
   "source": [
    "train=data_label[~data_label['type'].isnull()]\n",
    "test=data_label[data_label['type'].isnull()]\n",
    "type_map = {'拖网':0,'围网':1,'刺网':2}\n",
    "type_map_rev = {v:k for k,v in type_map.items()}\n",
    "train['type'] = train['type'].map(type_map)"
   ]
  },
  {
   "cell_type": "code",
   "execution_count": null,
   "metadata": {},
   "outputs": [],
   "source": [
    "train.reset_index(drop=True)\n",
    "test.reset_index(drop=True)"
   ]
  },
  {
   "cell_type": "code",
   "execution_count": null,
   "metadata": {},
   "outputs": [],
   "source": [
    "features = [x for x in train.columns if x not in ['ship','type']]\n",
    "target = 'type'\n",
    "\n",
    "params = {\n",
    "    'num_boost_round': 100,\n",
    "    'boosting_type': 'gbdt',\n",
    "    'objective': 'multiclass',\n",
    "    'num_class': 3,\n",
    "    'early_stopping_rounds': 50,\n",
    "}\n",
    "pred_list=[]\n",
    "for state in range(40,45):\n",
    "    fold = StratifiedKFold(n_splits=5, shuffle=True, random_state=state )\n",
    "    X = train[features].copy()\n",
    "    y = train[target]\n",
    "    models = []\n",
    "    pred = np.zeros((len(test_label),3))\n",
    "    oof = np.zeros((len(X), 3))\n",
    "    for index, (train_idx, val_idx) in enumerate(fold.split(X, y)):\n",
    "        train_set = lgb.Dataset(X.iloc[train_idx], y.iloc[train_idx])\n",
    "        val_set = lgb.Dataset(X.iloc[val_idx], y.iloc[val_idx])\n",
    "        model = lgb.train(params, train_set, valid_sets=[train_set, val_set], verbose_eval=100)\n",
    "        models.append(model)\n",
    "        val_pred = model.predict(X.iloc[val_idx])\n",
    "        oof[val_idx] = val_pred\n",
    "        val_y = y.iloc[val_idx]\n",
    "        val_pred = np.argmax(val_pred, axis=1)\n",
    "        print(index, 'val f1', metrics.f1_score(val_y, val_pred, average='macro'))\n",
    "        \n",
    "        test_pred = model.predict(test_label[features])\n",
    "        pred += test_pred/5\n",
    "\n",
    "    pred_list.append(pred)\n",
    "\n",
    "pred=sum(pred_list)/len(pred_list)\n",
    "pred = np.argmax(pred, axis=1)\n",
    "sub = test[['ship']]\n",
    "sub['pred'] = pred\n",
    "print(sub['pred'].value_counts())\n",
    "sub['pred'] = sub['pred'].map(type_map_rev)\n",
    "sub.to_csv('result.csv', header=None, index=False)"
   ]
  },
  {
   "cell_type": "markdown",
   "metadata": {},
   "source": [
    "# Part8: Balance the weights"
   ]
  },
  {
   "cell_type": "code",
   "execution_count": null,
   "metadata": {},
   "outputs": [],
   "source": [
    "params = {\n",
    "    'n_estimators': 3000,\n",
    "    'boosting_type': 'gbdt',\n",
    "    'objective': 'multiclass',\n",
    "    'num_class': 3,\n",
    "    'early_stopping_rounds': 100}\n",
    "fold = StratifiedKFold(n_splits=5, shuffle=True, random_state=2019)\n",
    "X = train[features].copy()\n",
    "y = train[target]\n",
    "pred = np.zeros((len(test),3))\n",
    "oof = np.zeros((len(X), 3))\n",
    "for index, (train_idx, val_idx) in enumerate(fold.split(X, y)):\n",
    "    train_set = lgb.Dataset(X.iloc[train_idx], y.iloc[train_idx])\n",
    "    val_set = lgb.Dataset(X.iloc[val_idx], y.iloc[val_idx])\n",
    "    model = lgb.train(params, train_set, valid_sets=[train_set, val_set], verbose_eval=100)\n",
    "    # models.append(model)\n",
    "    val_pred = model.predict(X.iloc[val_idx])\n",
    "    val_pred = val_pred*np.array([1,1.1,1.05])\n",
    "    oof[val_idx] = val_pred\n",
    "    val_y = y.iloc[val_idx]\n",
    "    val_pred = np.argmax(val_pred, axis=1)\n",
    "    print(index, 'val f1', metrics.f1_score(val_y, val_pred, average='macro'))\n",
    "    test_pred = model.predict(test[features])\n",
    "    test_pred=test_pred*np.array([1,1.1,1.05])\n",
    "    pred += test_pred/5"
   ]
  }
 ],
 "metadata": {
  "kernelspec": {
   "display_name": "Python 3",
   "language": "python",
   "name": "python3"
  },
  "language_info": {
   "codemirror_mode": {
    "name": "ipython",
    "version": 3
   },
   "file_extension": ".py",
   "mimetype": "text/x-python",
   "name": "python",
   "nbconvert_exporter": "python",
   "pygments_lexer": "ipython3",
   "version": "3.7.0"
  }
 },
 "nbformat": 4,
 "nbformat_minor": 2
}
